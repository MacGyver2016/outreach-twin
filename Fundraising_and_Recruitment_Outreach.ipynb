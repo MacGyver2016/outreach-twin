{
  "nbformat": 4,
  "nbformat_minor": 0,
  "metadata": {
    "colab": {
      "provenance": [],
      "authorship_tag": "ABX9TyMw/0gB+7p1Mr1M3SPQhdvt",
      "include_colab_link": true
    },
    "kernelspec": {
      "name": "python3",
      "display_name": "Python 3"
    },
    "language_info": {
      "name": "python"
    }
  },
  "cells": [
    {
      "cell_type": "markdown",
      "metadata": {
        "id": "view-in-github",
        "colab_type": "text"
      },
      "source": [
        "<a href=\"https://colab.research.google.com/github/MacGyver2016/outreach-twin/blob/main/Fundraising_and_Recruitment_Outreach.ipynb\" target=\"_parent\"><img src=\"https://colab.research.google.com/assets/colab-badge.svg\" alt=\"Open In Colab\"/></a>"
      ]
    },
    {
      "cell_type": "markdown",
      "source": [
        "## Setup"
      ],
      "metadata": {
        "id": "FrGEiWan6y5Q"
      }
    },
    {
      "cell_type": "code",
      "execution_count": null,
      "metadata": {
        "id": "uBQYuF79n3Hd"
      },
      "outputs": [],
      "source": [
        "# Install packages\n",
        "!pip install -q crewai #openai langchain beautifulsoup4 requests\n",
        "!pip install 'crewai[tools]'"
      ]
    },
    {
      "cell_type": "code",
      "source": [
        "# Import libraries\n",
        "from crewai_tools import DallETool, SerperDevTool\n",
        "import os\n",
        "from crewai import LLM, Agent, Task, Crew, Process"
      ],
      "metadata": {
        "id": "FeUSZ0dbifG2"
      },
      "execution_count": null,
      "outputs": []
    },
    {
      "cell_type": "code",
      "source": [
        "# Set API keys\n",
        "# IMPORTANT: User needs to input their own API keys here\n",
        "os.environ[\"GEMINI_API_KEY\"] = \"<YOUR_GEMINI_API_KEY>\"\n",
        "os.environ[\"SERPER_API_KEY\"] = \"<YOUR_SERPER_API_KEY>\"\n",
        "os.environ[\"OPENAI_API_KEY\"] = \"<YOUR_OPENAI_API_KEY>\""
      ],
      "metadata": {
        "id": "5bOtFS7OslyR"
      },
      "execution_count": null,
      "outputs": []
    },
    {
      "cell_type": "code",
      "source": [
        "# Input important company information (or use defaults)\n",
        "\"\"\"\n",
        "    This information will be used to personalize outreach efforts so that they align with the company\n",
        "\n",
        "    company_name: common name of the company\n",
        "    company_mission: either the company's mission or a summary of it\n",
        "    company_participant_number: approximatley how many people are served by the company plus how many people work within the company\n",
        "    company_region: where those who are served by the company reside\n",
        "    company_results_desired: how many sponsors/colleges you'd like in the output\n",
        "    company_event: the event the company is organizing\n",
        "\"\"\"\n",
        "company_name = \"Hacknation\"\n",
        "company_mission = \"innovate for impact and build a global community of hackers, push the boundaries of AI, accelerate AI learning in a fun collaborative way, and build bridges between industry, academia, and the public sector\"\n",
        "company_participant_number = 2000\n",
        "company_region = \"global\"\n",
        "company_results_desired = 2\n",
        "company_event = \"virtual ai hackathon\"\n",
        "\n",
        "# company_name = input(\"Please input your company's name:\")\n",
        "# company_mission = input(\"Please summarize your company's mission:\")\n",
        "# company_participant_number = int(input(\"Please input how many people you serve:\"))\n",
        "# company_region = input(\"Please input where your participants are located:\")\n",
        "# company_results_desired = int(input(\"Please input how many results you would like to see:\"))\n",
        "# company_event = input(\"Please describe the event you are organizing:\")"
      ],
      "metadata": {
        "id": "2VKrQsgc0d-_"
      },
      "execution_count": null,
      "outputs": []
    },
    {
      "cell_type": "code",
      "source": [
        "# Instantiate tools\n",
        "\"\"\"\n",
        "    search_tool: allows the ai crew to search the internet for relevant information using the Serper API\n",
        "    dalle_tool: allows the ai crew to generate images using the Dall-E model\n",
        "\"\"\"\n",
        "search_tool = SerperDevTool()\n",
        "dalle_tool = DallETool(model=\"dall-e-3\", size=\"1024x1024\", quality=\"standard\", n=1)\n",
        "\n",
        "# Setup LLM\n",
        "\"\"\"Gemini is the default, but a different model, such as OpenAI may be substituted here\"\"\"\n",
        "llm = LLM(model=\"gemini/gemini-2.0-flash\", temperature=0.7)"
      ],
      "metadata": {
        "id": "E6TCkZzM3eH5"
      },
      "execution_count": null,
      "outputs": []
    },
    {
      "cell_type": "markdown",
      "source": [
        "## Sponsorship"
      ],
      "metadata": {
        "id": "cH46NTjh62bw"
      }
    },
    {
      "cell_type": "code",
      "source": [
        "# Define Sponsorship Crew Agents\n",
        "\"\"\"\n",
        "    Defines agents with specialized roles to work together to create a sponsorship plan.\n",
        "\n",
        "    The general roles are as follows:\n",
        "    sponsorship_prospect_researcher: identifies sponsors\n",
        "    sponsorship_outreach_specialist: creates communications for sponsors\n",
        "    sponsorship_manager: combines all that is done by the other agents to create a final plan\n",
        "\"\"\"\n",
        "sponsorship_prospect_researcher = Agent(\n",
        "    role=\"Prospect Researcher\",\n",
        "    goal=f\"Identify potentential sponsors for {company_name}\",\n",
        "    backstory=f\"You are a skilled prospect researcher who has experience matching companies to potential sponsors in {company_region}\",\n",
        "    llm=llm,\n",
        "    tools=[search_tool],\n",
        "    verbose=True,\n",
        "    allow_delegation=False,\n",
        ")\n",
        "\n",
        "sponsorship_outreach_specialist = Agent(\n",
        "    role=\"Outreach Specialist\",\n",
        "    goal=f\"Secure sponsors for {company_name} through effective email communication\",\n",
        "    backstory=\"You are an effective writer who is both professional, but also fun and great at grabbing attention.\",\n",
        "    llm=llm,\n",
        "    tools=[search_tool], # add dalle_tool here if you have credits\n",
        "    verbose=True,\n",
        "    allow_delegation=False,\n",
        ")\n",
        "\n",
        "sponsorship_manager = Agent(\n",
        "    role=\"Outreach Manager\",\n",
        "    goal=\"Combine all aspects to create an outreach plan.\",\n",
        "    backstory=\"You have managed outreach teams for medium sized companies for many years. This outreach should help this company grow significantly.\",\n",
        "    llm=llm,\n",
        "    tools=[search_tool],\n",
        "    verbose=True,\n",
        "    allow_delegation=True\n",
        ")"
      ],
      "metadata": {
        "id": "b4SHhB1Ts1_L"
      },
      "execution_count": null,
      "outputs": []
    },
    {
      "cell_type": "code",
      "source": [
        "# Define Sponsorship Crew Tasks\n",
        "\"\"\"\n",
        "    Defines tasks for agents to complete with the end goal of creating a sponsorship plan.\n",
        "\n",
        "    find_sponsors_task: identifies potential sponsors\n",
        "    find_sponsor_contact_info_task: finds contact methods (preferably email addresses) for each sponsor identified\n",
        "    determine_sponsor_attitude_task: determines amount to ask for and the best tone to use in email outreach\n",
        "    write_sponsor_email_task: writes an outreach email for each potential sponsor\n",
        "    create_sponsor_image_task: creates an image for each potential sponsor\n",
        "    sponsorship_proposal: creates a detailed sponsorship proposal document that is general enough to apply to each company in the list\n",
        "    sponsor_final_output_task: organizes all of the information from the previous tasks to create a plan for the company to procure sponsors\n",
        "\"\"\"\n",
        "find_sponsors_task = Task(\n",
        "    description=f\"Find the {company_results_desired} best sponsors for {company_name}, whose company mission aligns with {company_name}'s mission of {company_mission}, are located in {company_region}, and could feasibly sponsor an event for {company_participant_number} people\",\n",
        "    agent=sponsorship_prospect_researcher,\n",
        "    expected_output=f\"A bullet-point list of potential sponsors, including their locations, why their mission aligns with {company_name}'s mission, and why this sponsorship would benefit the sponsor\")\n",
        "\n",
        "find_sponsor_contact_info_task = Task(\n",
        "    description=\"For each company in the list, find a viable email to use to contact the company to ask for their sponsorship\",\n",
        "    agent=sponsorship_prospect_researcher,\n",
        "    context=[find_sponsors_task],\n",
        "    expected_output=\"A list with contact information for each company from the sponsor list\"\n",
        ")\n",
        "\n",
        "determine_sponsor_attitude_task = Task(\n",
        "    description=\"Using the sponsor list, determine the attitude of each potentential sponsor based on their website and social media.\",\n",
        "    agent=sponsorship_outreach_specialist,\n",
        "    tools=[search_tool],\n",
        "    context=[find_sponsors_task],\n",
        "    expected_output= f\"A bullet-point list that lists each potential sponsor, how much {company_name} should ask for in their request (keeping in mind that they serve {company_participant_number} people), and what attitude should be used when approaching the sponsor to get the best feedback\",\n",
        ")\n",
        "\n",
        "write_sponsor_email_task = Task(\n",
        "    description=\"Using the lists, write an outreach email for each potential sponsor.\",\n",
        "    agent=sponsorship_outreach_specialist,\n",
        "    tools=[search_tool],\n",
        "    context=[find_sponsors_task, determine_sponsor_attitude_task],\n",
        "    expected_output=\"Text for an outreach email for each company\"\n",
        ")\n",
        "\n",
        "create_sponsor_image_task = Task(\n",
        "    description=f\"Create a visual that will convince each sponsor to partner with {company_name} that will accompany the written email\",\n",
        "    agent=sponsorship_outreach_specialist,\n",
        "    context=[find_sponsors_task, determine_sponsor_attitude_task, write_sponsor_email_task],\n",
        "    expected_output=\"An image for each sponsor\"\n",
        ")\n",
        "\n",
        "sponsorship_proposal = Task(\n",
        "    description=\"Create a detailed sponsorship proposal document that is general enough to apply to each company in the list\",\n",
        "    agent=sponsorship_manager,\n",
        "    context=[find_sponsors_task, determine_sponsor_attitude_task, write_sponsor_email_task, create_sponsor_image_task, find_sponsor_contact_info_task],\n",
        "    expected_output=\"A detailed sponsorship proposal document\"\n",
        ")\n",
        "\n",
        "sponsor_final_output_task = Task(\n",
        "    description=f\"Organize all of the information from the previous tasks to create a plan for {company_name} to procure sponsors\",\n",
        "    agent=sponsorship_manager,\n",
        "    context=[find_sponsors_task, determine_sponsor_attitude_task, write_sponsor_email_task, create_sponsor_image_task, find_sponsor_contact_info_task],\n",
        "    expected_output=\"A final list, including the previously written sponsorship proposal, emails, visuals, contact information, and any other important information for each company\"\n",
        ")\n",
        "\n"
      ],
      "metadata": {
        "id": "o9BJg8ORtCFr"
      },
      "execution_count": null,
      "outputs": []
    },
    {
      "cell_type": "code",
      "source": [
        "# Define Sponsorship Crew\n",
        "sponsorship_crew = Crew(\n",
        "    agents=[sponsorship_prospect_researcher, sponsorship_outreach_specialist, sponsorship_manager],\n",
        "    tasks=[find_sponsors_task, find_sponsor_contact_info_task, determine_sponsor_attitude_task, write_sponsor_email_task, create_sponsor_image_task, sponsorship_proposal, sponsor_final_output_task],\n",
        "    verbose=True,\n",
        "    max_rpm = 10,   # Gemini allows 10 requests per minute for free. Change this if you are allowed more requests per minute.\n",
        ")"
      ],
      "metadata": {
        "id": "y83S9qlfMtIe"
      },
      "execution_count": null,
      "outputs": []
    },
    {
      "cell_type": "code",
      "source": [
        "# Run Sponsorship Crew\n",
        "\"\"\"\n",
        "    Starts the crew running.\n",
        "    As agents complete tasks, the output will appear below\n",
        "    The final printed output will have a detailed sponsorship plan for each company\n",
        "\"\"\"\n",
        "result = sponsorship_crew.kickoff()\n",
        "print(result)"
      ],
      "metadata": {
        "id": "z1czyZtnuVtr"
      },
      "execution_count": null,
      "outputs": []
    },
    {
      "cell_type": "markdown",
      "source": [
        "## Participant"
      ],
      "metadata": {
        "id": "kEcis7q764ww"
      }
    },
    {
      "cell_type": "code",
      "source": [
        "# Define Participant Recruitment Crew Agents\n",
        "\"\"\"\n",
        "    Defines agents with specialized roles to work together to create a recruitment plan to colleges to increase participation.\n",
        "\n",
        "    The general roles are as follows:\n",
        "    participant_recruiter: identifies colleges\n",
        "    participant_outreach_specialist: creates communications for colleges\n",
        "    participant_outreach_manager: combines all that is done by the other agents to create a final plan\n",
        "\"\"\"\n",
        "participant_recruiter = Agent(\n",
        "    role=\"Participant Recruiter\",\n",
        "    goal=f\"Identify potentential colleges that could have participants for {company_name}'s {company_event} event\",\n",
        "    backstory=f\"You are a skilled recruiter who has experience finding participants for {company_event} events in {company_region}\",\n",
        "    llm=llm,\n",
        "    tools=[search_tool],\n",
        "    verbose=True,\n",
        "    allow_delegation=False,\n",
        ")\n",
        "\n",
        "participant_outreach_specialist = Agent(\n",
        "    role=\"Participant Outreach Specialist\",\n",
        "    goal=f\"Secure participants for {company_name} through effective email communication with their colleges\",\n",
        "    backstory=\"You are an effective writer who is both professional, but also fun and great at grabbing attention.\",\n",
        "    llm=llm,\n",
        "    tools=[search_tool],\n",
        "    verbose=True,\n",
        "    allow_delegation=False,\n",
        ")\n",
        "\n",
        "participant_recruitment_manager = Agent(\n",
        "    role=\"Recruitment Manager\",\n",
        "    goal=\"Combine all aspects to create an recruitment plan.\",\n",
        "    backstory=\"You have managed recruitment teams for medium sized events for many years. This outreach should help this company's participation grow significantly.\",\n",
        "    llm=llm,\n",
        "    tools=[search_tool],\n",
        "    verbose=True,\n",
        "    allow_delegation=True\n",
        ")"
      ],
      "metadata": {
        "id": "MBWHF56367d4"
      },
      "execution_count": null,
      "outputs": []
    },
    {
      "cell_type": "code",
      "source": [
        "# Define Recruitment Crew Tasks\n",
        "\"\"\"\n",
        "    Defines tasks for agents to complete with the end goal of creating a recruitment outreach plan.\n",
        "\n",
        "    find_colleges_task: identifies potential colleges to recruit participants from\n",
        "    find_college_contact_info_task: finds contact methods (preferably email addresses) for each college identified\n",
        "    determine_college_attitude_task: determines the best tone to use in email outreach\n",
        "    write_recruitment_email_task: writes an outreach email for each college\n",
        "    recruitment_final_output_task: organizes all of the information from the previous tasks to create a plan for the company to recruit participants\n",
        "\"\"\"\n",
        "find_colleges_task = Task(\n",
        "    description=f\"Find the {company_results_desired} best colleges for {company_name}, whose mission aligns with {company_name}'s mission of {company_mission}, and are located in {company_region}\",\n",
        "    agent=participant_recruiter,\n",
        "    expected_output=f\"A bullet-point list of potential colleges, including their locations, why their mission aligns with {company_name}'s mission, and why having their students participate in the event would benefit the college\"\n",
        ")\n",
        "\n",
        "find_college_contact_info_task = Task(\n",
        "    description=\"For each college in the list, find a viable email to use to contact the college to ask for them to tell their students about the event\",\n",
        "    agent=participant_recruiter,\n",
        "    context=[find_colleges_task],\n",
        "    expected_output=\"A list with contact information for each college from the college list\"\n",
        ")\n",
        "\n",
        "determine_college_attitude_task = Task(\n",
        "    description=\"Using the college list, determine the attitude of each college based on their website and social media.\",\n",
        "    agent=participant_outreach_specialist,\n",
        "    tools=[search_tool],\n",
        "    context=[find_colleges_task],\n",
        "    expected_output= f\"A bullet-point list that lists each college and what attitude should be used when approaching the college to get the best feedback\",\n",
        ")\n",
        "\n",
        "write_recruitment_email_task = Task(\n",
        "    description=\"Using the lists, write an recruitment email for each college.\",\n",
        "    agent=sponsorship_outreach_specialist,\n",
        "    tools=[search_tool],\n",
        "    context=[find_colleges_task, determine_college_attitude_task],\n",
        "    expected_output=\"Text for an recruitment email for each college. This should include an introduction section addressed to the contact, as well as a paragraph or two that you are requesting be included in an email, sent by the contact, to the students\"\n",
        ")\n",
        "\n",
        "recruitment_final_output_task = Task(\n",
        "    description=f\"Organize all of the information from the previous tasks to create a plan for {company_name} to recruit college students as participants\",\n",
        "    agent=sponsorship_manager,\n",
        "    context=[find_colleges_task, find_college_contact_info_task, determine_college_attitude_task, write_recruitment_email_task],\n",
        "    expected_output=\"A final list, including the previously written emails, contact information, and any other important information for each college\"\n",
        ")"
      ],
      "metadata": {
        "id": "Lm4Qotf99F2_"
      },
      "execution_count": 15,
      "outputs": []
    },
    {
      "cell_type": "code",
      "source": [
        "# Define Recruitment Crew\n",
        "recruitment_crew = Crew(\n",
        "    agents=[participant_recruiter, participant_outreach_specialist, participant_recruitment_manager],\n",
        "    tasks=[find_colleges_task, find_college_contact_info_task, determine_college_attitude_task, write_recruitment_email_task, recruitment_final_output_task],\n",
        "    verbose=True,\n",
        "    max_rpm = 10,   # Gemini allows 10 requests per minute for free. Change this if you are allowed more requests per minute.\n",
        ")"
      ],
      "metadata": {
        "id": "2DFJUV41_jNp"
      },
      "execution_count": 16,
      "outputs": []
    },
    {
      "cell_type": "code",
      "source": [
        "# Run Recruitment Crew\n",
        "\"\"\"\n",
        "    Starts the crew running.\n",
        "    As agents complete tasks, the output will appear below\n",
        "    The final printed output will have a detailed recruitment plan for each college\n",
        "\"\"\"\n",
        "result = recruitment_crew.kickoff()\n",
        "print(result)"
      ],
      "metadata": {
        "id": "ECQaLMAD_5XQ"
      },
      "execution_count": null,
      "outputs": []
    }
  ]
}